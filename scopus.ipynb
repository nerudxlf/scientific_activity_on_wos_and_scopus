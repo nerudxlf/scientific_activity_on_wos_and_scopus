{
  "nbformat": 4,
  "nbformat_minor": 0,
  "metadata": {
    "colab": {
      "name": "scopus.ipynb",
      "provenance": [],
      "authorship_tag": "ABX9TyPf6aiRa6fl84QQk+5Vghgz",
      "include_colab_link": true
    },
    "kernelspec": {
      "name": "python3",
      "display_name": "Python 3"
    }
  },
  "cells": [
    {
      "cell_type": "markdown",
      "metadata": {
        "id": "view-in-github",
        "colab_type": "text"
      },
      "source": [
        "<a href=\"https://colab.research.google.com/github/nerudxlf/scientific_activity_on_wos_and_scopus/blob/main/scopus.ipynb\" target=\"_parent\"><img src=\"https://colab.research.google.com/assets/colab-badge.svg\" alt=\"Open In Colab\"/></a>"
      ]
    },
    {
      "cell_type": "code",
      "metadata": {
        "id": "uX1tKZc6gVlw"
      },
      "source": [
        "import pandas as pd\r\n",
        "\r\n",
        "from google.colab import files\r\n",
        "files.upload()"
      ],
      "execution_count": null,
      "outputs": []
    },
    {
      "cell_type": "code",
      "metadata": {
        "id": "ovyiGmnFgjgl"
      },
      "source": [
        "df_scopus_oecd = pd.read_excel('scopus_oecd.xlsx')\r\n",
        "df_scopus_date = pd.read_excel('2020.xlsx')\r\n",
        "df_scopus_citation = pd.read_excel('2016-2020_Scopus_Citedby.xlsx')\r\n",
        "\r\n",
        "df_result_scopus = pd.merge(left=df_scopus_date, right=df_scopus_oecd, left_on='Направление',\r\n",
        "                                  right_on='направление_scopus')\r\n",
        "df_result_citation = pd.merge(left=df_scopus_citation, right=df_scopus_oecd, left_on='направление',\r\n",
        "                                right_on='направление_scopus')\r\n",
        "\r\n",
        "df_result_citation.to_excel(\"result_scopus_citation.xlsx\")\r\n",
        "df_result_scopus.to_excel(\"result_scopus.xlsx\")\r\n"
      ],
      "execution_count": null,
      "outputs": []
    }
  ]
}