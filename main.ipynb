{
  "nbformat": 4,
  "nbformat_minor": 0,
  "metadata": {
    "colab": {
      "name": "main.ipynb",
      "provenance": [],
      "authorship_tag": "ABX9TyPrjLY8H6E5VV3B1VbUIDCq",
      "include_colab_link": true
    },
    "kernelspec": {
      "name": "python3",
      "display_name": "Python 3"
    }
  },
  "cells": [
    {
      "cell_type": "markdown",
      "metadata": {
        "id": "view-in-github",
        "colab_type": "text"
      },
      "source": [
        "<a href=\"https://colab.research.google.com/github/nerudxlf/scientific_activity_on_wos_and_scopus/blob/main/main.ipynb\" target=\"_parent\"><img src=\"https://colab.research.google.com/assets/colab-badge.svg\" alt=\"Open In Colab\"/></a>"
      ]
    },
    {
      "cell_type": "code",
      "metadata": {
        "id": "51Q-35wLlIS-"
      },
      "source": [
        "import pandas as pd\r\n",
        "from pprint import pprint\r\n",
        "\r\n",
        "from google.colab import files\r\n",
        "files.upload()"
      ],
      "execution_count": null,
      "outputs": []
    },
    {
      "cell_type": "code",
      "metadata": {
        "id": "Ch2XUWRulSTh"
      },
      "source": [
        "df_wos_citation = pd.read_excel(\"WoS.xls\")\r\n",
        "df_wos_data = pd.read_excel(\"wos5.xlsx\")\r\n",
        "df_oecd = pd.read_excel(\"OECD Category Mapping.xlsx\")\r\n",
        "list_sum: list = []\r\n",
        "get_result_oecd_and_wos_category: list = []\r\n",
        "get_list_all_wos_category: list = []\r\n",
        "category_value_list: list = []\r\n",
        "only_category_list: list = []\r\n",
        "result_dict_citation: dict = {}\r\n",
        "\r\n",
        "df_wos_citation.filter([\"Название\", \"Всего цитат\"])\r\n",
        "df_wos_data.filter([\"Article Title\", \"WoS Categories\"])\r\n",
        "join_df_by_title = pd.merge(left=df_wos_data, right=df_wos_citation, left_on=\"Article Title\", right_on=\"Название\")\r\n",
        "\r\n",
        "list_citation = join_df_by_title[\"Всего цитат\"].to_list()\r\n",
        "list_research_areas = join_df_by_title[\"WoS Categories\"].to_list()\r\n",
        "list_wos_description = df_oecd['WoS_Description'].tolist()  # перевожу данные к списку\r\n",
        "list_description = df_oecd[\"Description\"].to_list()\r\n",
        "uniq_dict_description = dict.fromkeys(list_description, \"\")\r\n",
        "\r\n",
        "for i in range(len(list_research_areas)):\r\n",
        "    if result_dict_citation.get(list_research_areas[i]):\r\n",
        "        result_dict_citation[list_research_areas[i]] += list_citation[i]\r\n",
        "    else:\r\n",
        "        result_dict_citation |= {list_research_areas[i]: list_citation[i]}\r\n",
        "\r\n",
        "for i in range(len(list_description)):\r\n",
        "    uniq_dict_description[list_description[i]] += list_wos_description[i] + \";\"\r\n",
        "\r\n",
        "for key_c, item_c in result_dict_citation.items():\r\n",
        "    dict_append = {}\r\n",
        "    for key, item in uniq_dict_description.items():\r\n",
        "        for i in key_c.split(\"; \"):\r\n",
        "            if item.find(i.upper()+\";\") != -1:\r\n",
        "                dict_append |= {key: i.upper() + \":\" + str(item_c)}\r\n",
        "    get_result_oecd_and_wos_category.append(dict_append)\r\n",
        "pprint(get_result_oecd_and_wos_category)\r\n",
        "\r\n",
        "for element in get_result_oecd_and_wos_category:\r\n",
        "    append_list = []\r\n",
        "    for item in element.values():\r\n",
        "        append_list.append(item)\r\n",
        "    get_list_all_wos_category.append(list(set(append_list)))\r\n",
        "\r\n",
        "for item in get_list_all_wos_category:\r\n",
        "    for values in item:\r\n",
        "        category_value_list.append(values)\r\n",
        "        only_category_list.append(values.split(\":\")[0])\r\n",
        "result_dict_category_value = dict.fromkeys(only_category_list, 0)\r\n",
        "\r\n",
        "for elem in category_value_list:\r\n",
        "    elem_split = elem.split(\":\")\r\n",
        "    list_sum.append(int(elem_split[1]))\r\n",
        "    result_dict_category_value[elem_split[0]] += int(elem_split[1])\r\n",
        "\r\n",
        "list_to_df_title = list(result_dict_category_value.keys())\r\n",
        "list_to_df_category = list(result_dict_category_value.values())\r\n",
        "title_category_df = pd.DataFrame({\"wos_category\": list_to_df_title, \"value\": list_to_df_category})\r\n",
        "result_df = pd.merge(left=df_oecd, right=title_category_df, right_on=\"wos_category\",\r\n",
        "                         left_on=\"WoS_Description\")\r\n",
        "result_df.to_excel(\"result_new.xlsx\", index=False)\r\n"
      ],
      "execution_count": null,
      "outputs": []
    }
  ]
}