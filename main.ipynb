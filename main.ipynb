{
  "nbformat": 4,
  "nbformat_minor": 0,
  "metadata": {
    "colab": {
      "name": "main.ipynb",
      "provenance": [],
      "authorship_tag": "ABX9TyP2d30yLwCw79FDj/RlDAbB",
      "include_colab_link": true
    },
    "kernelspec": {
      "name": "python3",
      "display_name": "Python 3"
    }
  },
  "cells": [
    {
      "cell_type": "markdown",
      "metadata": {
        "id": "view-in-github",
        "colab_type": "text"
      },
      "source": [
        "<a href=\"https://colab.research.google.com/github/nerudxlf/scientific_activity_on_wos_and_scopus/blob/main/main.ipynb\" target=\"_parent\"><img src=\"https://colab.research.google.com/assets/colab-badge.svg\" alt=\"Open In Colab\"/></a>"
      ]
    },
    {
      "cell_type": "code",
      "metadata": {
        "id": "51Q-35wLlIS-"
      },
      "source": [
        "import pandas as pd\r\n",
        "\r\n",
        "from google.colab import files\r\n",
        "files.upload()"
      ],
      "execution_count": null,
      "outputs": []
    },
    {
      "cell_type": "code",
      "metadata": {
        "id": "JbAxhG-SlQtM"
      },
      "source": [
        "def list_to_upper_case(data_list: list) -> list:\r\n",
        "    \"\"\"\r\n",
        "    Функция для изменения регистра названий в списке\r\n",
        "    :param data_list: список с данными\r\n",
        "    :return: возвращает новый список с элементами в новом регистре\r\n",
        "    \"\"\"\r\n",
        "    return_list = []\r\n",
        "    for i in data_list:\r\n",
        "        return_list.append(i.upper())\r\n",
        "    return return_list"
      ],
      "execution_count": null,
      "outputs": []
    },
    {
      "cell_type": "code",
      "metadata": {
        "id": "Ch2XUWRulSTh"
      },
      "source": [
        "df_wos_citation = pd.read_excel(\"WoS.xls\")\r\n",
        "df_wos_data = pd.read_excel(\"wos5.xlsx\")\r\n",
        "df_oecd = pd.read_excel(\"OECD Category Mapping.xlsx\")\r\n",
        "\r\n",
        "df_wos_citation.filter([\"Название\", \"Всего цитат\"])\r\n",
        "df_wos_data.filter([\"Article Title\", \"WoS Categories\"])\r\n",
        "join_df_by_title = pd.merge(left=df_wos_data, right=df_wos_citation, left_on=\"Article Title\", right_on=\"Название\")\r\n",
        "\r\n",
        "list_citation = join_df_by_title[\"Всего цитат\"].to_list()\r\n",
        "list_research_areas = join_df_by_title[\"WoS Categories\"].to_list()\r\n",
        "oecd_category_df_list = df_oecd['WoS_Description'].tolist()  # перевожу данные к списку\r\n",
        "\r\n",
        "result_dict = {}\r\n",
        "\r\n",
        "for i in range(len(list_research_areas)):\r\n",
        "  if result_dict.get(list_research_areas[i]):\r\n",
        "    result_dict[list_research_areas[i]] += list_citation[i]\r\n",
        "  else:\r\n",
        "    result_dict |= {list_research_areas[i]: list_citation[i]}\r\n",
        "\r\n",
        "oecd_category_df_list = list_to_upper_case(oecd_category_df_list)\r\n",
        "oecd_category_df_dict = dict.fromkeys(oecd_category_df_list)\r\n",
        "result_dict_upper_key = {}\r\n",
        "for key, item in result_dict.items():\r\n",
        "  result_dict_upper_key |= {key.upper(): item}\r\n",
        "\r\n",
        "for key, item in oecd_category_df_dict.items():\r\n",
        "  oecd_category_df_dict[key] = 0\r\n",
        "\r\n",
        "for key, item in oecd_category_df_dict.items():\r\n",
        "  for key_old, item_old in result_dict_upper_key.items():\r\n",
        "    for i in key_old.split(\"; \"):\r\n",
        "      if key_old == key:\r\n",
        "        oecd_category_df_dict[key] += item_old\r\n",
        "\r\n",
        "result_df_value = pd.DataFrame(oecd_category_df_dict, index=['Количество']).T\r\n",
        "result_df_value[\"WoS Categories\"] = result_df_value.index\r\n",
        "result_all = pd.merge(left_on=\"WoS_Description\", right_on=\"WoS Categories\", left=df_oecd, right=result_df_value)\r\n",
        "result_all.to_excel(\"result.xlsx\", index=False)\r\n"
      ],
      "execution_count": null,
      "outputs": []
    }
  ]
}